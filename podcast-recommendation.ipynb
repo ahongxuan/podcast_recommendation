{
 "cells": [
  {
   "cell_type": "code",
   "execution_count": 1,
   "id": "c2303869",
   "metadata": {
    "_cell_guid": "b1076dfc-b9ad-4769-8c92-a6c4dae69d19",
    "_uuid": "8f2839f25d086af736a60e9eeb907d3b93b6e0e5",
    "execution": {
     "iopub.execute_input": "2024-11-12T19:40:05.684309Z",
     "iopub.status.busy": "2024-11-12T19:40:05.683043Z",
     "iopub.status.idle": "2024-11-12T19:40:06.658209Z",
     "shell.execute_reply": "2024-11-12T19:40:06.656916Z"
    },
    "papermill": {
     "duration": 0.981915,
     "end_time": "2024-11-12T19:40:06.660638",
     "exception": false,
     "start_time": "2024-11-12T19:40:05.678723",
     "status": "completed"
    },
    "tags": []
   },
   "outputs": [
    {
     "name": "stdout",
     "output_type": "stream",
     "text": [
      "/kaggle/input/podcastreviews/categories.json\n",
      "/kaggle/input/podcastreviews/podcasts.json\n",
      "/kaggle/input/podcastreviews/database.db\n",
      "/kaggle/input/podcastreviews/reviews.json\n"
     ]
    }
   ],
   "source": [
    "# This Python 3 environment comes with many helpful analytics libraries installed\n",
    "# It is defined by the kaggle/python Docker image: https://github.com/kaggle/docker-python\n",
    "# For example, here's several helpful packages to load\n",
    "\n",
    "import numpy as np # linear algebra\n",
    "import pandas as pd # data processing, CSV file I/O (e.g. pd.read_csv)\n",
    "\n",
    "# Input data files are available in the read-only \"../input/\" directory\n",
    "# For example, running this (by clicking run or pressing Shift+Enter) will list all files under the input directory\n",
    "\n",
    "import os\n",
    "for dirname, _, filenames in os.walk('/kaggle/input'):\n",
    "    for filename in filenames:\n",
    "        print(os.path.join(dirname, filename))\n",
    "\n",
    "# You can write up to 20GB to the current directory (/kaggle/working/) that gets preserved as output when you create a version using \"Save & Run All\" \n",
    "# You can also write temporary files to /kaggle/temp/, but they won't be saved outside of the current session"
   ]
  },
  {
   "cell_type": "code",
   "execution_count": null,
   "id": "d48636df",
   "metadata": {
    "papermill": {
     "duration": 0.001654,
     "end_time": "2024-11-12T19:40:06.664573",
     "exception": false,
     "start_time": "2024-11-12T19:40:06.662919",
     "status": "completed"
    },
    "tags": []
   },
   "outputs": [],
   "source": []
  },
  {
   "cell_type": "code",
   "execution_count": 2,
   "id": "6b18fbcf",
   "metadata": {
    "execution": {
     "iopub.execute_input": "2024-11-12T19:40:06.669623Z",
     "iopub.status.busy": "2024-11-12T19:40:06.669130Z",
     "iopub.status.idle": "2024-11-12T19:41:52.085019Z",
     "shell.execute_reply": "2024-11-12T19:41:52.083777Z"
    },
    "papermill": {
     "duration": 105.421341,
     "end_time": "2024-11-12T19:41:52.087645",
     "exception": false,
     "start_time": "2024-11-12T19:40:06.666304",
     "status": "completed"
    },
    "tags": []
   },
   "outputs": [
    {
     "name": "stdout",
     "output_type": "stream",
     "text": [
      "Err:1 http://security.ubuntu.com/ubuntu focal-security InRelease\r\n",
      "  Temporary failure resolving 'security.ubuntu.com'\r\n",
      "Err:2 https://packages.cloud.google.com/apt gcsfuse-focal InRelease\r\n",
      "  Temporary failure resolving 'packages.cloud.google.com'\r\n",
      "Err:3 http://archive.ubuntu.com/ubuntu focal InRelease\r\n",
      "  Temporary failure resolving 'archive.ubuntu.com'\r\n",
      "Err:4 http://archive.ubuntu.com/ubuntu focal-updates InRelease\r\n",
      "  Temporary failure resolving 'archive.ubuntu.com'\r\n",
      "Err:5 https://packages.cloud.google.com/apt cloud-sdk InRelease\r\n",
      "  Temporary failure resolving 'packages.cloud.google.com'\r\n",
      "Err:6 http://archive.ubuntu.com/ubuntu focal-backports InRelease\r\n",
      "  Temporary failure resolving 'archive.ubuntu.com'\r\n",
      "\r\n",
      "W: Failed to fetch http://archive.ubuntu.com/ubuntu/dists/focal/InRelease  Temporary failure resolving 'archive.ubuntu.com'\r\n",
      "W: Failed to fetch http://archive.ubuntu.com/ubuntu/dists/focal-updates/InRelease  Temporary failure resolving 'archive.ubuntu.com'\r\n",
      "W: Failed to fetch http://archive.ubuntu.com/ubuntu/dists/focal-backports/InRelease  Temporary failure resolving 'archive.ubuntu.com'\r\n",
      "W: Failed to fetch http://security.ubuntu.com/ubuntu/dists/focal-security/InRelease  Temporary failure resolving 'security.ubuntu.com'\r\n",
      "W: Failed to fetch https://packages.cloud.google.com/apt/dists/gcsfuse-focal/InRelease  Temporary failure resolving 'packages.cloud.google.com'\r\n",
      "W: Failed to fetch https://packages.cloud.google.com/apt/dists/cloud-sdk/InRelease  Temporary failure resolving 'packages.cloud.google.com'\r\n",
      "W: Some index files failed to download. They have been ignored, or old ones used instead.\r\n",
      "\r\n",
      "\r\n",
      "\r\n",
      "Suggested packages:\r\n",
      "  gettext-base git-daemon-run | git-daemon-sysvinit git-doc git-el git-email\r\n",
      "  git-gui gitk gitweb git-cvs git-mediawiki git-svn\r\n",
      "Recommended packages:\r\n",
      "  less\r\n",
      "The following packages will be upgraded:\r\n",
      "  git\r\n",
      "1 upgraded, 0 newly installed, 0 to remove and 45 not upgraded.\r\n",
      "Need to get 4612 kB of archives.\r\n",
      "After this operation, 12.3 kB of additional disk space will be used.\r\n",
      "Ign:1 http://archive.ubuntu.com/ubuntu focal-updates/main amd64 git amd64 1:2.25.1-1ubuntu3.13\r\n",
      "Err:1 http://security.ubuntu.com/ubuntu focal-updates/main amd64 git amd64 1:2.25.1-1ubuntu3.13\r\n",
      "  Temporary failure resolving 'archive.ubuntu.com'\r\n",
      "E: Failed to fetch http://security.ubuntu.com/ubuntu/pool/main/g/git/git_2.25.1-1ubuntu3.13_amd64.deb  Temporary failure resolving 'archive.ubuntu.com'\r\n",
      "E: Unable to fetch some archives, maybe run apt-get update or try with --fix-missing?\r\n"
     ]
    }
   ],
   "source": [
    "!apt-get update && apt-get install -y git"
   ]
  }
 ],
 "metadata": {
  "kaggle": {
   "accelerator": "none",
   "dataSources": [
    {
     "datasetId": 692140,
     "sourceId": 5138952,
     "sourceType": "datasetVersion"
    }
   ],
   "dockerImageVersionId": 30786,
   "isGpuEnabled": false,
   "isInternetEnabled": false,
   "language": "python",
   "sourceType": "notebook"
  },
  "kernelspec": {
   "display_name": "Python 3",
   "language": "python",
   "name": "python3"
  },
  "language_info": {
   "codemirror_mode": {
    "name": "ipython",
    "version": 3
   },
   "file_extension": ".py",
   "mimetype": "text/x-python",
   "name": "python",
   "nbconvert_exporter": "python",
   "pygments_lexer": "ipython3",
   "version": "3.10.14"
  },
  "papermill": {
   "default_parameters": {},
   "duration": 109.767604,
   "end_time": "2024-11-12T19:41:52.625488",
   "environment_variables": {},
   "exception": null,
   "input_path": "__notebook__.ipynb",
   "output_path": "__notebook__.ipynb",
   "parameters": {},
   "start_time": "2024-11-12T19:40:02.857884",
   "version": "2.6.0"
  }
 },
 "nbformat": 4,
 "nbformat_minor": 5
}
